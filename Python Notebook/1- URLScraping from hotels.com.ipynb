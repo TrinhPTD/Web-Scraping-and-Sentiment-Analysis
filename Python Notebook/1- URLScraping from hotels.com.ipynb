{
 "cells": [
  {
   "cell_type": "code",
   "execution_count": 1,
   "metadata": {},
   "outputs": [],
   "source": [
    "from selenium import webdriver\n",
    "from selenium.webdriver.common.keys import Keys\n",
    "from selenium.webdriver.common.by import By\n",
    "from selenium.webdriver.support.ui import WebDriverWait\n",
    "from selenium.webdriver.support import expected_conditions as EC\n",
    "import time # for sleep time\n",
    "import csv\n",
    "import re\n",
    "import functools\n",
    "import datetime #for csv file title\n",
    "import pandas as pd"
   ]
  },
  {
   "cell_type": "markdown",
   "metadata": {},
   "source": [
    "## Get the Chicago hotel list from Hotels.com\n",
    "\n",
    "#### Reference: https://github.com/priyasrivast/WebscrapingAirBnbAndHotels/blob/master/selenium_code/hotelOrl.ipynb"
   ]
  },
  {
   "cell_type": "code",
   "execution_count": 36,
   "metadata": {},
   "outputs": [],
   "source": [
    "#open the hotel list page for Chicago area\n",
    "driver = webdriver.Chrome(executable_path=r'C:\\Users\\Xitong Hu\\Desktop\\Class\\BAN5193\\chromedriver.exe')\n",
    "driver.get('https://www.hotels.com/search.do?resolved-location=CITY%3A1497539%3AUNKNOWN%3AUNKNOWN&destination-id=1497539&q-destination=Chicago,%20Illinois,%20United%20States%20of%20America&q-check-in=2020-10-26&q-check-out=2020-10-27&q-rooms=1&q-room-0-adults=2&q-room-0-children=0')"
   ]
  },
  {
   "cell_type": "code",
   "execution_count": 37,
   "metadata": {},
   "outputs": [],
   "source": [
    "#define functions for scrapping the hotel list. \n",
    "#We need to scroll down to the bottom of the page, to get more hotel lists.\n",
    "#so we are going to design a program to scroll the page down automatically until it reached the bottom of the list. \n",
    "#The method is referenced from a Github repository\n",
    "#https://github.com/priyasrivast/WebscrapingAirBnbAndHotels/blob/master/selenium_code/hotelOrl.ipynb\n",
    "\n",
    "def reduce_concat(x, sep=\"\"):\n",
    "    return functools.reduce(lambda x, y: str(x) + sep + str(y), x)\n",
    "\n",
    "def paste(*lists, sep=\" \", collapse=None):\n",
    "    result = map(lambda x: reduce_concat(x, sep=sep), zip(*lists))\n",
    "    if collapse is not None:\n",
    "        return reduce_concat(result, sep=collapse)\n",
    "    return list(result)\n",
    "\n",
    "def scroll_bar():\n",
    "    #scroll to end of page so that all elements are visible\n",
    "    calm = WebDriverWait(driver, 20).until(EC.presence_of_element_located((By.XPATH, \"//html\"))) #if elements aren't available it will return a timeout error and alert user that script must be altered\n",
    "    time.sleep(3)\n",
    "    lenOfPage = driver.execute_script(\"window.scrollTo(0, document.body.scrollHeight);var lenOfPage=document.body.scrollHeight;return lenOfPage;\")\n",
    "    match=False\n",
    "\n",
    "    while(match==False):\n",
    "        lastCount = lenOfPage\n",
    "        time.sleep(3)\n",
    "        lenOfPage = driver.execute_script(\"window.scrollTo(0, document.body.scrollHeight);var lenOfPage=document.body.scrollHeight;return lenOfPage;\")\n",
    "        if lastCount==lenOfPage:\n",
    "            match=True\n",
    "\n",
    "    scroll = driver.find_element_by_xpath('//html')\n",
    "    time.sleep(2)\n",
    "    scroll.send_keys(Keys.HOME)\n",
    "    time.sleep(2)"
   ]
  },
  {
   "cell_type": "code",
   "execution_count": 38,
   "metadata": {},
   "outputs": [
    {
     "name": "stdout",
     "output_type": "stream",
     "text": [
      "Number of events: 14\n",
      "position pre-loop: 0\n",
      "Number of events: 466\n",
      "current position: 3024\n",
      "Number of events: 466\n",
      "position pre-loop: 3024\n",
      "Number of events: 466\n",
      "current position: 103680\n"
     ]
    }
   ],
   "source": [
    "#Start to scroll down the hotel list page and detect how many hotel blocks (object) in the list page.\n",
    "wait_event = WebDriverWait(driver, 10)\n",
    "events = wait_event.until(EC.presence_of_all_elements_located((By.XPATH,'//div[@class=\"description resp-module\"]')))\n",
    "lenOfPage = driver.execute_script(\"window.scrollTo(0, (document.body.scrollHeight));var lenOfPage=document.body.scrollHeight;return lenOfPage;\")\n",
    "    \n",
    "hotel_all_links = []\n",
    "newPos = 0\n",
    "while (newPos <= lenOfPage):\n",
    "    print('Number of events:', len(events))\n",
    "    print('position pre-loop:', newPos) #for testing\n",
    "    scroll_bar()\n",
    "    time.sleep(3)\n",
    "\n",
    "    offprep = paste([\"var offprep = window.screen.height * \"], [(len(events))/5], [\";return offprep\"], sep='') \n",
    "    offprep = ''.join(offprep)\n",
    "    offset = driver.execute_script(offprep)\n",
    "    newPos = newPos + offset\n",
    "    scrollerArg = paste([\"window.scrollTo(0, \"], [newPos], [\");\"], sep = '')\n",
    "    scrollerArg = ''.join(scrollerArg)\n",
    "    time.sleep(20)\n",
    "    scroller = driver.execute_script(scrollerArg)\n",
    "    events = wait_event.until(EC.presence_of_all_elements_located((By.XPATH,'//div[@class=\"description resp-module\"]')))\n",
    "\n",
    "    print('Number of events:', len(events)) #testing\n",
    "    print('current position:', newPos) #testing\n"
   ]
  },
  {
   "cell_type": "code",
   "execution_count": 39,
   "metadata": {},
   "outputs": [],
   "source": [
    "# Get list of links to hotels and append   \n",
    "time.sleep(40)\n",
    "hotel_list = (driver.find_elements_by_xpath('//div[@class=\"description resp-module\"]/figure[@class=\"image\"]/a'))\n",
    "hotel_all_links = [hotel.get_attribute('href') for hotel in hotel_list ] \n",
    "\n",
    "#export the URLs to a csv file\n",
    "df_links=pd.DataFrame(hotel_all_links,columns=['url'])\n",
    "df_links.to_csv(\"Chicago_hotel_list.csv\",index=False)"
   ]
  }
 ],
 "metadata": {
  "kernelspec": {
   "display_name": "Python 3",
   "language": "python",
   "name": "python3"
  },
  "language_info": {
   "codemirror_mode": {
    "name": "ipython",
    "version": 3
   },
   "file_extension": ".py",
   "mimetype": "text/x-python",
   "name": "python",
   "nbconvert_exporter": "python",
   "pygments_lexer": "ipython3",
   "version": "3.7.6"
  }
 },
 "nbformat": 4,
 "nbformat_minor": 2
}
